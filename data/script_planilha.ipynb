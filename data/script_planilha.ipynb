{
 "cells": [
  {
   "cell_type": "markdown",
   "metadata": {},
   "source": [
    "importar bibliotecas"
   ]
  },
  {
   "cell_type": "code",
   "execution_count": 6,
   "metadata": {},
   "outputs": [
    {
     "name": "stdout",
     "output_type": "stream",
     "text": [
      "Index(['Nome', 'numero de pontos', 'data', 'H/H', 'imagem', 'cidade',\n",
      "       'pontos por imagem'],\n",
      "      dtype='object')\n"
     ]
    }
   ],
   "source": [
    "import pandas as pd\n",
    "import os\n",
    "\n",
    "# Caminho para o arquivo Excel\n",
    "arquivo = r\"planilha de controle.xlsx\"\n",
    "\n",
    "# Carregar os dados da planilha em um DataFrame\n",
    "df = pd.read_excel(arquivo)\n",
    "\n",
    "# Verificar se as colunas foram carregadas corretamente\n",
    "print(df.columns)"
   ]
  },
  {
   "cell_type": "code",
   "execution_count": 7,
   "metadata": {},
   "outputs": [
    {
     "name": "stdout",
     "output_type": "stream",
     "text": [
      "Colunas no DataFrame: Index(['Nome', 'numero de pontos', 'data', 'H/H', 'imagem', 'cidade',\n",
      "       'pontos por imagem'],\n",
      "      dtype='object')\n",
      "        data  numero de pontos  \\\n",
      "0 2024-10-08              58.0   \n",
      "1 2024-10-09             174.0   \n",
      "2 2024-10-10             975.0   \n",
      "3 2024-10-11             846.0   \n",
      "4 2024-10-14             977.0   \n",
      "\n",
      "                                              imagem      cidade  \n",
      "0       IMG_PHR1B_PMS_202406111339239_ORT_7091652101  Area teste  \n",
      "1       IMG_PHR1B_PMS_202406111339239_ORT_7091652101  Area teste  \n",
      "2       IMG_PHR1B_PMS_202406111339239_ORT_7091652101  Area teste  \n",
      "3  IMG_PHR1B_PMS_202407161319293_ORT_7091880101_R3C1    Sao Luiz  \n",
      "4  IMG_PHR1B_PMS_202407161319293_ORT_7091880101_R3C1    Sao Luiz  \n",
      "Arquivo salvo em: c:\\Users\\tiago\\OneDrive\\Área de Trabalho\\Projetos WEB\\Dashboard_FITec\\data\\dados.csv\n"
     ]
    }
   ],
   "source": [
    "# Verificar os nomes das colunas\n",
    "print(\"Colunas no DataFrame:\", df.columns)\n",
    "\n",
    "# Excluir as colunas \"Nome\" e \"H/H\"\n",
    "df = df.drop(columns=['Nome', 'H/H'])\n",
    "\n",
    "# Agrupar os dados pela coluna \"data\" e somar a coluna \"número de pontos\"\n",
    "df_agrupado = df.groupby(['data'], as_index=False).agg({\n",
    "    'numero de pontos': 'sum',\n",
    "    'imagem': 'first',  # Manter a primeira imagem (ou você pode ajustar conforme necessário)\n",
    "    'cidade': 'first'  # Manter a primeira cidade (ou você pode ajustar conforme necessário)\n",
    "})\n",
    "\n",
    "# Determinar o caminho da pasta atual (onde o script está sendo executado)\n",
    "pasta_atual = os.getcwd()\n",
    "\n",
    "# Definir o caminho do arquivo CSV final\n",
    "caminho_csv = os.path.join(pasta_atual, \"dados.csv\")\n",
    "\n",
    "# Exibir o resultado no console (mostrando as primeiras linhas)\n",
    "print(df_agrupado.head())  # Isso mostrará as primeiras linhas do DataFrame no console\n",
    "\n",
    "# Salvar o resultado em um novo arquivo CSV na mesma pasta onde o código está sendo executado\n",
    "df_agrupado.to_csv(caminho_csv, index=False)\n",
    "\n",
    "print(f\"Arquivo salvo em: {caminho_csv}\")\n"
   ]
  },
  {
   "cell_type": "code",
   "execution_count": 5,
   "metadata": {},
   "outputs": [
    {
     "ename": "OSError",
     "evalue": "[Errno 22] Invalid argument: 'https://docs.google.com/spreadsheets/d/12KAaJOf0W5Bj1-cIZ5-5K3BK3ARaLmaf/edit?usp=drive_link&ouid=114285550340248280544&rtpof=true&sd=true'",
     "output_type": "error",
     "traceback": [
      "\u001b[1;31m---------------------------------------------------------------------------\u001b[0m",
      "\u001b[1;31mOSError\u001b[0m                                   Traceback (most recent call last)",
      "Cell \u001b[1;32mIn[5], line 7\u001b[0m\n\u001b[0;32m      5\u001b[0m \u001b[38;5;66;03m# Autenticação usando o arquivo de credenciais\u001b[39;00m\n\u001b[0;32m      6\u001b[0m scope \u001b[38;5;241m=\u001b[39m [\u001b[38;5;124m\"\u001b[39m\u001b[38;5;124mhttps://spreadsheets.google.com/feeds\u001b[39m\u001b[38;5;124m\"\u001b[39m, \u001b[38;5;124m\"\u001b[39m\u001b[38;5;124mhttps://www.googleapis.com/auth/drive\u001b[39m\u001b[38;5;124m\"\u001b[39m]\n\u001b[1;32m----> 7\u001b[0m creds \u001b[38;5;241m=\u001b[39m \u001b[43mServiceAccountCredentials\u001b[49m\u001b[38;5;241;43m.\u001b[39;49m\u001b[43mfrom_json_keyfile_name\u001b[49m\u001b[43m(\u001b[49m\u001b[38;5;124;43m\"\u001b[39;49m\u001b[38;5;124;43mhttps://docs.google.com/spreadsheets/d/12KAaJOf0W5Bj1-cIZ5-5K3BK3ARaLmaf/edit?usp=drive_link&ouid=114285550340248280544&rtpof=true&sd=true\u001b[39;49m\u001b[38;5;124;43m\"\u001b[39;49m\u001b[43m,\u001b[49m\u001b[43m \u001b[49m\u001b[43mscope\u001b[49m\u001b[43m)\u001b[49m\n\u001b[0;32m      8\u001b[0m client \u001b[38;5;241m=\u001b[39m gspread\u001b[38;5;241m.\u001b[39mauthorize(creds)\n\u001b[0;32m     10\u001b[0m \u001b[38;5;66;03m# Abrir a planilha\u001b[39;00m\n",
      "File \u001b[1;32mc:\\Users\\tiago\\OneDrive\\Área de Trabalho\\Projetos WEB\\Dashboard_FITec\\venv\\Lib\\site-packages\\oauth2client\\service_account.py:219\u001b[0m, in \u001b[0;36mServiceAccountCredentials.from_json_keyfile_name\u001b[1;34m(cls, filename, scopes, token_uri, revoke_uri)\u001b[0m\n\u001b[0;32m    193\u001b[0m \u001b[38;5;129m@classmethod\u001b[39m\n\u001b[0;32m    194\u001b[0m \u001b[38;5;28;01mdef\u001b[39;00m \u001b[38;5;21mfrom_json_keyfile_name\u001b[39m(\u001b[38;5;28mcls\u001b[39m, filename, scopes\u001b[38;5;241m=\u001b[39m\u001b[38;5;124m'\u001b[39m\u001b[38;5;124m'\u001b[39m,\n\u001b[0;32m    195\u001b[0m                            token_uri\u001b[38;5;241m=\u001b[39m\u001b[38;5;28;01mNone\u001b[39;00m, revoke_uri\u001b[38;5;241m=\u001b[39m\u001b[38;5;28;01mNone\u001b[39;00m):\n\u001b[0;32m    197\u001b[0m \u001b[38;5;250m    \u001b[39m\u001b[38;5;124;03m\"\"\"Factory constructor from JSON keyfile by name.\u001b[39;00m\n\u001b[0;32m    198\u001b[0m \n\u001b[0;32m    199\u001b[0m \u001b[38;5;124;03m    Args:\u001b[39;00m\n\u001b[1;32m   (...)\u001b[0m\n\u001b[0;32m    217\u001b[0m \u001b[38;5;124;03m            the keyfile.\u001b[39;00m\n\u001b[0;32m    218\u001b[0m \u001b[38;5;124;03m    \"\"\"\u001b[39;00m\n\u001b[1;32m--> 219\u001b[0m     \u001b[38;5;28;01mwith\u001b[39;00m \u001b[38;5;28;43mopen\u001b[39;49m\u001b[43m(\u001b[49m\u001b[43mfilename\u001b[49m\u001b[43m,\u001b[49m\u001b[43m \u001b[49m\u001b[38;5;124;43m'\u001b[39;49m\u001b[38;5;124;43mr\u001b[39;49m\u001b[38;5;124;43m'\u001b[39;49m\u001b[43m)\u001b[49m \u001b[38;5;28;01mas\u001b[39;00m file_obj:\n\u001b[0;32m    220\u001b[0m         client_credentials \u001b[38;5;241m=\u001b[39m json\u001b[38;5;241m.\u001b[39mload(file_obj)\n\u001b[0;32m    221\u001b[0m     \u001b[38;5;28;01mreturn\u001b[39;00m \u001b[38;5;28mcls\u001b[39m\u001b[38;5;241m.\u001b[39m_from_parsed_json_keyfile(client_credentials, scopes,\n\u001b[0;32m    222\u001b[0m                                          token_uri\u001b[38;5;241m=\u001b[39mtoken_uri,\n\u001b[0;32m    223\u001b[0m                                          revoke_uri\u001b[38;5;241m=\u001b[39mrevoke_uri)\n",
      "\u001b[1;31mOSError\u001b[0m: [Errno 22] Invalid argument: 'https://docs.google.com/spreadsheets/d/12KAaJOf0W5Bj1-cIZ5-5K3BK3ARaLmaf/edit?usp=drive_link&ouid=114285550340248280544&rtpof=true&sd=true'"
     ]
    }
   ],
   "source": [
    "import gspread\n",
    "import pandas as pd\n",
    "from oauth2client.service_account import ServiceAccountCredentials\n",
    "\n",
    "# Autenticação usando o arquivo de credenciais\n",
    "scope = [\"https://spreadsheets.google.com/feeds\", \"https://www.googleapis.com/auth/drive\"]\n",
    "creds = ServiceAccountCredentials.from_json_keyfile_name(\"https://docs.google.com/spreadsheets/d/12KAaJOf0W5Bj1-cIZ5-5K3BK3ARaLmaf/edit?usp=drive_link&ouid=114285550340248280544&rtpof=true&sd=true\", scope)\n",
    "client = gspread.authorize(creds)\n",
    "\n",
    "# Abrir a planilha\n",
    "sheet = client.open_by_url(\"https://docs.google.com/spreadsheets/d/12KAaJOf0W5Bj1-cIZ5-5K3BK3ARaLmaf/edit?usp=sharing\")\n",
    "worksheet = sheet.get_worksheet(0)  # Seleciona a primeira aba\n",
    "\n",
    "# Carregar os dados da planilha no pandas\n",
    "data = worksheet.get_all_records()\n",
    "df = pd.DataFrame(data)\n",
    "\n",
    "# Manipulação dos dados como no seu exemplo\n",
    "df = df.drop(columns=['Nome', 'H/H'])\n",
    "\n",
    "df_agrupado = df.groupby(['data'], as_index=False).agg({\n",
    "    'numero de pontos': 'sum',\n",
    "    'imagem': 'first',\n",
    "    'cidade': 'first'\n",
    "})\n",
    "\n",
    "# Salvar o resultado em CSV\n",
    "df_agrupado.to_csv(\"dados_agrupados.csv\", index=False)\n",
    "print(\"Arquivo CSV gerado com sucesso!\")\n"
   ]
  }
 ],
 "metadata": {
  "kernelspec": {
   "display_name": "venv",
   "language": "python",
   "name": "python3"
  },
  "language_info": {
   "codemirror_mode": {
    "name": "ipython",
    "version": 3
   },
   "file_extension": ".py",
   "mimetype": "text/x-python",
   "name": "python",
   "nbconvert_exporter": "python",
   "pygments_lexer": "ipython3",
   "version": "3.11.7"
  }
 },
 "nbformat": 4,
 "nbformat_minor": 2
}
