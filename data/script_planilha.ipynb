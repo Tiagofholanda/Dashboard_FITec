{
 "cells": [
  {
   "cell_type": "markdown",
   "metadata": {},
   "source": [
    "importar bibliotecas"
   ]
  },
  {
   "cell_type": "code",
   "execution_count": 3,
   "metadata": {},
   "outputs": [
    {
     "name": "stdout",
     "output_type": "stream",
     "text": [
      "Index(['Nome', 'numero de pontos', 'data', 'H/H', 'imagem', 'cidade',\n",
      "       'pontos por imagem'],\n",
      "      dtype='object')\n"
     ]
    }
   ],
   "source": [
    "import pandas as pd\n",
    "import os\n",
    "\n",
    "# Caminho para o arquivo Excel\n",
    "arquivo = r\"planilha de controle.xlsx\"\n",
    "\n",
    "# Carregar os dados da planilha em um DataFrame\n",
    "df = pd.read_excel(arquivo)\n",
    "\n",
    "# Verificar se as colunas foram carregadas corretamente\n",
    "print(df.columns)"
   ]
  },
  {
   "cell_type": "code",
   "execution_count": 4,
   "metadata": {},
   "outputs": [
    {
     "name": "stdout",
     "output_type": "stream",
     "text": [
      "Colunas no DataFrame: Index(['Nome', 'numero de pontos', 'data', 'H/H', 'imagem', 'cidade',\n",
      "       'pontos por imagem'],\n",
      "      dtype='object')\n",
      "        data  numero de pontos  \\\n",
      "0 2024-10-08                58   \n",
      "1 2024-10-09               174   \n",
      "2 2024-10-10               975   \n",
      "3 2024-10-11               846   \n",
      "4 2024-10-14               977   \n",
      "\n",
      "                                              imagem      cidade  \n",
      "0       IMG_PHR1B_PMS_202406111339239_ORT_7091652101  Area teste  \n",
      "1       IMG_PHR1B_PMS_202406111339239_ORT_7091652101  Area teste  \n",
      "2       IMG_PHR1B_PMS_202406111339239_ORT_7091652101  Area teste  \n",
      "3  IMG_PHR1B_PMS_202407161319293_ORT_7091880101_R3C1    Sao Luiz  \n",
      "4  IMG_PHR1B_PMS_202407161319293_ORT_7091880101_R3C1    Sao Luiz  \n",
      "Arquivo salvo em: c:\\Users\\tiago\\OneDrive\\Área de Trabalho\\Projetos WEB\\Dashboard_FITec\\data\\dados.csv\n"
     ]
    }
   ],
   "source": [
    "# Verificar os nomes das colunas\n",
    "print(\"Colunas no DataFrame:\", df.columns)\n",
    "\n",
    "# Excluir as colunas \"Nome\" e \"H/H\"\n",
    "df = df.drop(columns=['Nome', 'H/H'])\n",
    "\n",
    "# Agrupar os dados pela coluna \"data\" e somar a coluna \"número de pontos\"\n",
    "df_agrupado = df.groupby(['data'], as_index=False).agg({\n",
    "    'numero de pontos': 'sum',\n",
    "    'imagem': 'first',  # Manter a primeira imagem (ou você pode ajustar conforme necessário)\n",
    "    'cidade': 'first'  # Manter a primeira cidade (ou você pode ajustar conforme necessário)\n",
    "})\n",
    "\n",
    "# Determinar o caminho da pasta atual (onde o script está sendo executado)\n",
    "pasta_atual = os.getcwd()\n",
    "\n",
    "# Definir o caminho do arquivo CSV final\n",
    "caminho_csv = os.path.join(pasta_atual, \"dados.csv\")\n",
    "\n",
    "# Exibir o resultado no console (mostrando as primeiras linhas)\n",
    "print(df_agrupado.head())  # Isso mostrará as primeiras linhas do DataFrame no console\n",
    "\n",
    "# Salvar o resultado em um novo arquivo CSV na mesma pasta onde o código está sendo executado\n",
    "df_agrupado.to_csv(caminho_csv, index=False)\n",
    "\n",
    "print(f\"Arquivo salvo em: {caminho_csv}\")\n"
   ]
  }
 ],
 "metadata": {
  "kernelspec": {
   "display_name": "base",
   "language": "python",
   "name": "python3"
  },
  "language_info": {
   "codemirror_mode": {
    "name": "ipython",
    "version": 3
   },
   "file_extension": ".py",
   "mimetype": "text/x-python",
   "name": "python",
   "nbconvert_exporter": "python",
   "pygments_lexer": "ipython3",
   "version": "3.11.7"
  }
 },
 "nbformat": 4,
 "nbformat_minor": 2
}
