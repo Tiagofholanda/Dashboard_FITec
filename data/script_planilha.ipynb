{
 "cells": [
  {
   "cell_type": "markdown",
   "metadata": {},
   "source": [
    "importar bibliotecas"
   ]
  },
  {
   "cell_type": "code",
   "execution_count": 1,
   "metadata": {},
   "outputs": [
    {
     "name": "stdout",
     "output_type": "stream",
     "text": [
      "Index(['Nome', 'numero de pontos', 'data', 'H/H', 'imagem', 'cidade',\n",
      "       'pontos por imagem'],\n",
      "      dtype='object')\n"
     ]
    }
   ],
   "source": [
    "import pandas as pd\n",
    "import os\n",
    "\n",
    "# Caminho para o arquivo Excel\n",
    "arquivo = r\"C:\\Users\\tiago\\OneDrive\\Área de Trabalho\\projeto - rodrigo\\Dados\\planilha de controle.xlsx\"\n",
    "\n",
    "# Carregar os dados da planilha em um DataFrame\n",
    "df = pd.read_excel(arquivo)\n",
    "\n",
    "# Verificar se as colunas foram carregadas corretamente\n",
    "print(df.columns)"
   ]
  },
  {
   "cell_type": "code",
   "execution_count": 2,
   "metadata": {},
   "outputs": [
    {
     "name": "stdout",
     "output_type": "stream",
     "text": [
      "Colunas no DataFrame: Index(['Nome', 'numero de pontos', 'data', 'H/H', 'imagem', 'cidade',\n",
      "       'pontos por imagem'],\n",
      "      dtype='object')\n",
      "        data  numero de pontos                                        imagem  \\\n",
      "0 2024-10-08              57.0                                          None   \n",
      "1 2024-10-09             174.0                                          None   \n",
      "2 2024-10-10             975.0  IMG_PHR1B_PMS_202406111339239_ORT_7091652101   \n",
      "3 2024-10-11             846.0  IMG_PHR1B_PMS_202407141334120_ORT_7091881101   \n",
      "4 2024-10-14             977.0  IMG_PHR1B_PMS_202407141334120_ORT_7091881101   \n",
      "\n",
      "       cidade  \n",
      "0  Area teste  \n",
      "1  Area teste  \n",
      "2  Area teste  \n",
      "3    Sao Luiz  \n",
      "4    Sao Luiz  \n",
      "Arquivo salvo em: c:\\Users\\tiago\\OneDrive\\Área de Trabalho\\projeto - rodrigo\\Dados\\dados.csv\n"
     ]
    }
   ],
   "source": [
    "# Verificar os nomes das colunas\n",
    "print(\"Colunas no DataFrame:\", df.columns)\n",
    "\n",
    "# Excluir as colunas \"Nome\" e \"H/H\"\n",
    "df = df.drop(columns=['Nome', 'H/H'])\n",
    "\n",
    "# Agrupar os dados pela coluna \"data\" e somar a coluna \"número de pontos\"\n",
    "df_agrupado = df.groupby(['data'], as_index=False).agg({\n",
    "    'numero de pontos': 'sum',\n",
    "    'imagem': 'first',  # Manter a primeira imagem (ou você pode ajustar conforme necessário)\n",
    "    'cidade': 'first'  # Manter a primeira cidade (ou você pode ajustar conforme necessário)\n",
    "})\n",
    "\n",
    "# Determinar o caminho da pasta atual (onde o script está sendo executado)\n",
    "pasta_atual = os.getcwd()\n",
    "\n",
    "# Definir o caminho do arquivo CSV final\n",
    "caminho_csv = os.path.join(pasta_atual, \"dados.csv\")\n",
    "\n",
    "# Exibir o resultado no console (mostrando as primeiras linhas)\n",
    "print(df_agrupado.head())  # Isso mostrará as primeiras linhas do DataFrame no console\n",
    "\n",
    "# Salvar o resultado em um novo arquivo CSV na mesma pasta onde o código está sendo executado\n",
    "df_agrupado.to_csv(caminho_csv, index=False)\n",
    "\n",
    "print(f\"Arquivo salvo em: {caminho_csv}\")\n"
   ]
  },
  {
   "cell_type": "code",
   "execution_count": 40,
   "metadata": {},
   "outputs": [
    {
     "name": "stdout",
     "output_type": "stream",
     "text": [
      "Colunas no DataFrame: Index(['numero de pontos', 'data', 'imagem', 'cidade', 'pontos por imagem'], dtype='object')\n"
     ]
    },
    {
     "ename": "KeyError",
     "evalue": "\"['Nome', 'H/H'] not found in axis\"",
     "output_type": "error",
     "traceback": [
      "\u001b[1;31m---------------------------------------------------------------------------\u001b[0m",
      "\u001b[1;31mKeyError\u001b[0m                                  Traceback (most recent call last)",
      "Cell \u001b[1;32mIn[40], line 8\u001b[0m\n\u001b[0;32m      5\u001b[0m \u001b[38;5;28mprint\u001b[39m(\u001b[38;5;124m\"\u001b[39m\u001b[38;5;124mColunas no DataFrame:\u001b[39m\u001b[38;5;124m\"\u001b[39m, df\u001b[38;5;241m.\u001b[39mcolumns)\n\u001b[0;32m      7\u001b[0m \u001b[38;5;66;03m# Excluir as colunas \"Nome\" e \"H/H\"\u001b[39;00m\n\u001b[1;32m----> 8\u001b[0m df \u001b[38;5;241m=\u001b[39m df\u001b[38;5;241m.\u001b[39mdrop(columns\u001b[38;5;241m=\u001b[39m[\u001b[38;5;124m'\u001b[39m\u001b[38;5;124mNome\u001b[39m\u001b[38;5;124m'\u001b[39m, \u001b[38;5;124m'\u001b[39m\u001b[38;5;124mH/H\u001b[39m\u001b[38;5;124m'\u001b[39m])\n\u001b[0;32m     10\u001b[0m \u001b[38;5;66;03m# Garantir que a coluna 'numero de pontos' seja numérica e substituir NaN por 0\u001b[39;00m\n\u001b[0;32m     11\u001b[0m df[\u001b[38;5;124m'\u001b[39m\u001b[38;5;124mnumero de pontos\u001b[39m\u001b[38;5;124m'\u001b[39m] \u001b[38;5;241m=\u001b[39m pd\u001b[38;5;241m.\u001b[39mto_numeric(df[\u001b[38;5;124m'\u001b[39m\u001b[38;5;124mnumero de pontos\u001b[39m\u001b[38;5;124m'\u001b[39m], errors\u001b[38;5;241m=\u001b[39m\u001b[38;5;124m'\u001b[39m\u001b[38;5;124mcoerce\u001b[39m\u001b[38;5;124m'\u001b[39m)\u001b[38;5;241m.\u001b[39mfillna(\u001b[38;5;241m0\u001b[39m)\n",
      "File \u001b[1;32mc:\\Users\\tiago\\anaconda3\\Lib\\site-packages\\pandas\\core\\frame.py:5581\u001b[0m, in \u001b[0;36mDataFrame.drop\u001b[1;34m(self, labels, axis, index, columns, level, inplace, errors)\u001b[0m\n\u001b[0;32m   5433\u001b[0m \u001b[38;5;28;01mdef\u001b[39;00m \u001b[38;5;21mdrop\u001b[39m(\n\u001b[0;32m   5434\u001b[0m     \u001b[38;5;28mself\u001b[39m,\n\u001b[0;32m   5435\u001b[0m     labels: IndexLabel \u001b[38;5;241m|\u001b[39m \u001b[38;5;28;01mNone\u001b[39;00m \u001b[38;5;241m=\u001b[39m \u001b[38;5;28;01mNone\u001b[39;00m,\n\u001b[1;32m   (...)\u001b[0m\n\u001b[0;32m   5442\u001b[0m     errors: IgnoreRaise \u001b[38;5;241m=\u001b[39m \u001b[38;5;124m\"\u001b[39m\u001b[38;5;124mraise\u001b[39m\u001b[38;5;124m\"\u001b[39m,\n\u001b[0;32m   5443\u001b[0m ) \u001b[38;5;241m-\u001b[39m\u001b[38;5;241m>\u001b[39m DataFrame \u001b[38;5;241m|\u001b[39m \u001b[38;5;28;01mNone\u001b[39;00m:\n\u001b[0;32m   5444\u001b[0m \u001b[38;5;250m    \u001b[39m\u001b[38;5;124;03m\"\"\"\u001b[39;00m\n\u001b[0;32m   5445\u001b[0m \u001b[38;5;124;03m    Drop specified labels from rows or columns.\u001b[39;00m\n\u001b[0;32m   5446\u001b[0m \n\u001b[1;32m   (...)\u001b[0m\n\u001b[0;32m   5579\u001b[0m \u001b[38;5;124;03m            weight  1.0     0.8\u001b[39;00m\n\u001b[0;32m   5580\u001b[0m \u001b[38;5;124;03m    \"\"\"\u001b[39;00m\n\u001b[1;32m-> 5581\u001b[0m     \u001b[38;5;28;01mreturn\u001b[39;00m \u001b[38;5;28msuper\u001b[39m()\u001b[38;5;241m.\u001b[39mdrop(\n\u001b[0;32m   5582\u001b[0m         labels\u001b[38;5;241m=\u001b[39mlabels,\n\u001b[0;32m   5583\u001b[0m         axis\u001b[38;5;241m=\u001b[39maxis,\n\u001b[0;32m   5584\u001b[0m         index\u001b[38;5;241m=\u001b[39mindex,\n\u001b[0;32m   5585\u001b[0m         columns\u001b[38;5;241m=\u001b[39mcolumns,\n\u001b[0;32m   5586\u001b[0m         level\u001b[38;5;241m=\u001b[39mlevel,\n\u001b[0;32m   5587\u001b[0m         inplace\u001b[38;5;241m=\u001b[39minplace,\n\u001b[0;32m   5588\u001b[0m         errors\u001b[38;5;241m=\u001b[39merrors,\n\u001b[0;32m   5589\u001b[0m     )\n",
      "File \u001b[1;32mc:\\Users\\tiago\\anaconda3\\Lib\\site-packages\\pandas\\core\\generic.py:4788\u001b[0m, in \u001b[0;36mNDFrame.drop\u001b[1;34m(self, labels, axis, index, columns, level, inplace, errors)\u001b[0m\n\u001b[0;32m   4786\u001b[0m \u001b[38;5;28;01mfor\u001b[39;00m axis, labels \u001b[38;5;129;01min\u001b[39;00m axes\u001b[38;5;241m.\u001b[39mitems():\n\u001b[0;32m   4787\u001b[0m     \u001b[38;5;28;01mif\u001b[39;00m labels \u001b[38;5;129;01mis\u001b[39;00m \u001b[38;5;129;01mnot\u001b[39;00m \u001b[38;5;28;01mNone\u001b[39;00m:\n\u001b[1;32m-> 4788\u001b[0m         obj \u001b[38;5;241m=\u001b[39m obj\u001b[38;5;241m.\u001b[39m_drop_axis(labels, axis, level\u001b[38;5;241m=\u001b[39mlevel, errors\u001b[38;5;241m=\u001b[39merrors)\n\u001b[0;32m   4790\u001b[0m \u001b[38;5;28;01mif\u001b[39;00m inplace:\n\u001b[0;32m   4791\u001b[0m     \u001b[38;5;28mself\u001b[39m\u001b[38;5;241m.\u001b[39m_update_inplace(obj)\n",
      "File \u001b[1;32mc:\\Users\\tiago\\anaconda3\\Lib\\site-packages\\pandas\\core\\generic.py:4830\u001b[0m, in \u001b[0;36mNDFrame._drop_axis\u001b[1;34m(self, labels, axis, level, errors, only_slice)\u001b[0m\n\u001b[0;32m   4828\u001b[0m         new_axis \u001b[38;5;241m=\u001b[39m axis\u001b[38;5;241m.\u001b[39mdrop(labels, level\u001b[38;5;241m=\u001b[39mlevel, errors\u001b[38;5;241m=\u001b[39merrors)\n\u001b[0;32m   4829\u001b[0m     \u001b[38;5;28;01melse\u001b[39;00m:\n\u001b[1;32m-> 4830\u001b[0m         new_axis \u001b[38;5;241m=\u001b[39m axis\u001b[38;5;241m.\u001b[39mdrop(labels, errors\u001b[38;5;241m=\u001b[39merrors)\n\u001b[0;32m   4831\u001b[0m     indexer \u001b[38;5;241m=\u001b[39m axis\u001b[38;5;241m.\u001b[39mget_indexer(new_axis)\n\u001b[0;32m   4833\u001b[0m \u001b[38;5;66;03m# Case for non-unique axis\u001b[39;00m\n\u001b[0;32m   4834\u001b[0m \u001b[38;5;28;01melse\u001b[39;00m:\n",
      "File \u001b[1;32mc:\\Users\\tiago\\anaconda3\\Lib\\site-packages\\pandas\\core\\indexes\\base.py:7070\u001b[0m, in \u001b[0;36mIndex.drop\u001b[1;34m(self, labels, errors)\u001b[0m\n\u001b[0;32m   7068\u001b[0m \u001b[38;5;28;01mif\u001b[39;00m mask\u001b[38;5;241m.\u001b[39many():\n\u001b[0;32m   7069\u001b[0m     \u001b[38;5;28;01mif\u001b[39;00m errors \u001b[38;5;241m!=\u001b[39m \u001b[38;5;124m\"\u001b[39m\u001b[38;5;124mignore\u001b[39m\u001b[38;5;124m\"\u001b[39m:\n\u001b[1;32m-> 7070\u001b[0m         \u001b[38;5;28;01mraise\u001b[39;00m \u001b[38;5;167;01mKeyError\u001b[39;00m(\u001b[38;5;124mf\u001b[39m\u001b[38;5;124m\"\u001b[39m\u001b[38;5;132;01m{\u001b[39;00mlabels[mask]\u001b[38;5;241m.\u001b[39mtolist()\u001b[38;5;132;01m}\u001b[39;00m\u001b[38;5;124m not found in axis\u001b[39m\u001b[38;5;124m\"\u001b[39m)\n\u001b[0;32m   7071\u001b[0m     indexer \u001b[38;5;241m=\u001b[39m indexer[\u001b[38;5;241m~\u001b[39mmask]\n\u001b[0;32m   7072\u001b[0m \u001b[38;5;28;01mreturn\u001b[39;00m \u001b[38;5;28mself\u001b[39m\u001b[38;5;241m.\u001b[39mdelete(indexer)\n",
      "\u001b[1;31mKeyError\u001b[0m: \"['Nome', 'H/H'] not found in axis\""
     ]
    }
   ],
   "source": [
    "import pandas as pd\n",
    "import os\n",
    "\n",
    "# Verificar os nomes das colunas\n",
    "print(\"Colunas no DataFrame:\", df.columns)\n",
    "\n",
    "# Excluir as colunas \"Nome\" e \"H/H\"\n",
    "df = df.drop(columns=['Nome', 'H/H'])\n",
    "\n",
    "# Garantir que a coluna 'numero de pontos' seja numérica e substituir NaN por 0\n",
    "df['numero de pontos'] = pd.to_numeric(df['numero de pontos'], errors='coerce').fillna(0)\n",
    "\n",
    "# Agrupar os dados pela coluna \"data\" e somar a coluna \"numero de pontos\"\n",
    "df_agrupado = df.groupby('data', as_index=False).agg({\n",
    "    'numero de pontos': 'sum',   # Soma dos pontos\n",
    "    'imagem': 'first',           # Mantém a primeira imagem de cada grupo\n",
    "    'cidade': 'first'            # Mantém a primeira cidade de cada grupo\n",
    "})\n",
    "\n",
    "# Determinar o caminho da pasta atual (onde o script está sendo executado)\n",
    "pasta_atual = os.getcwd()\n",
    "\n",
    "# Definir o caminho do arquivo CSV final\n",
    "caminho_csv = os.path.join(pasta_atual, \"dados.csv\")\n",
    "\n",
    "# Exibir o resultado no console (mostrando as primeiras linhas)\n",
    "print(df_agrupado.head())\n",
    "\n",
    "# Salvar o resultado em um novo arquivo CSV na mesma pasta onde o código está sendo executado\n",
    "df_agrupado.to_csv(caminho_csv, index=False)\n",
    "\n",
    "print(f\"Arquivo salvo em: {caminho_csv}\")\n"
   ]
  }
 ],
 "metadata": {
  "kernelspec": {
   "display_name": "base",
   "language": "python",
   "name": "python3"
  },
  "language_info": {
   "codemirror_mode": {
    "name": "ipython",
    "version": 3
   },
   "file_extension": ".py",
   "mimetype": "text/x-python",
   "name": "python",
   "nbconvert_exporter": "python",
   "pygments_lexer": "ipython3",
   "version": "3.11.7"
  }
 },
 "nbformat": 4,
 "nbformat_minor": 2
}
